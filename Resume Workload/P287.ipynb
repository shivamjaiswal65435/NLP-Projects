{
 "cells": [
  {
   "cell_type": "markdown",
   "id": "b4824a4a",
   "metadata": {},
   "source": [
    "## Project 287– Resume Classification"
   ]
  },
  {
   "cell_type": "code",
   "execution_count": 1,
   "id": "c5b1a5db",
   "metadata": {},
   "outputs": [],
   "source": [
    "import pandas as pd\n",
    "import numpy as np\n",
    "import matplotlib.pyplot as plt\n",
    "import seaborn as sns\n",
    "from wordcloud import WordCloud\n",
    "from sklearn.svm import SVC\n",
    "from sklearn.ensemble import RandomForestClassifier\n",
    "import xgboost as xgb\n",
    "from sklearn.metrics import accuracy_score, classification_report\n",
    "from sklearn.linear_model import LogisticRegression\n",
    "from sklearn.naive_bayes import MultinomialNB\n",
    "from sklearn.neighbors import KNeighborsClassifier\n"
   ]
  },
  {
   "cell_type": "code",
   "execution_count": 2,
   "id": "d8a103e1",
   "metadata": {},
   "outputs": [
    {
     "data": {
      "text/html": [
       "<div>\n",
       "<style scoped>\n",
       "    .dataframe tbody tr th:only-of-type {\n",
       "        vertical-align: middle;\n",
       "    }\n",
       "\n",
       "    .dataframe tbody tr th {\n",
       "        vertical-align: top;\n",
       "    }\n",
       "\n",
       "    .dataframe thead th {\n",
       "        text-align: right;\n",
       "    }\n",
       "</style>\n",
       "<table border=\"1\" class=\"dataframe\">\n",
       "  <thead>\n",
       "    <tr style=\"text-align: right;\">\n",
       "      <th></th>\n",
       "      <th>Raw_Details</th>\n",
       "      <th>Category</th>\n",
       "    </tr>\n",
       "  </thead>\n",
       "  <tbody>\n",
       "    <tr>\n",
       "      <th>0</th>\n",
       "      <td>Anubhav Kumar Singh\\t\\t\\n\\n\\n\\nCore Competenci...</td>\n",
       "      <td>PeopleSoft resumes</td>\n",
       "    </tr>\n",
       "    <tr>\n",
       "      <th>1</th>\n",
       "      <td>Classification: Internal\\n\\nClassification: In...</td>\n",
       "      <td>PeopleSoft resumes</td>\n",
       "    </tr>\n",
       "    <tr>\n",
       "      <th>2</th>\n",
       "      <td>SIRAZUDDIN M\\n\\n\\tBangalore, INDIA\\t\\n\\n\\n\\n\\n...</td>\n",
       "      <td>PeopleSoft resumes</td>\n",
       "    </tr>\n",
       "    <tr>\n",
       "      <th>3</th>\n",
       "      <td>PeopleSoft Admin\\n\\nVARKALA VIKAS\\n\\n\\n\\nCaree...</td>\n",
       "      <td>PeopleSoft resumes</td>\n",
       "    </tr>\n",
       "    <tr>\n",
       "      <th>4</th>\n",
       "      <td>PeopleSoft Administration\\n\\n \\n\\nVivekanand S...</td>\n",
       "      <td>PeopleSoft resumes</td>\n",
       "    </tr>\n",
       "    <tr>\n",
       "      <th>5</th>\n",
       "      <td>Hari Narayana \\t\\t              \\n\\n\\t\\n\\n\\n\\n...</td>\n",
       "      <td>PeopleSoft resumes</td>\n",
       "    </tr>\n",
       "    <tr>\n",
       "      <th>6</th>\n",
       "      <td>Murali\\t\\t       \\n\\n\\t\\n\\n\\n\\n\\n\\n\\n\\n\\n\\n\\n\\...</td>\n",
       "      <td>PeopleSoft resumes</td>\n",
       "    </tr>\n",
       "    <tr>\n",
       "      <th>7</th>\n",
       "      <td>Priyabrata Hota\\n\\n\\n\\n\\n\\nCAREER OBJECTIVE\\t\\...</td>\n",
       "      <td>PeopleSoft resumes</td>\n",
       "    </tr>\n",
       "    <tr>\n",
       "      <th>8</th>\n",
       "      <td>Tanna Sujatha \\n\\n\\n\\n\\n\\n\\n\\nOBJECTIVE\\n\\nSee...</td>\n",
       "      <td>PeopleSoft resumes</td>\n",
       "    </tr>\n",
       "    <tr>\n",
       "      <th>9</th>\n",
       "      <td>C O N T A C T :\\n\\n\\n\\nAddress: Manyata Tech P...</td>\n",
       "      <td>PeopleSoft resumes</td>\n",
       "    </tr>\n",
       "    <tr>\n",
       "      <th>10</th>\n",
       "      <td>Name: Ravali P \\n\\n\\n\\n                       ...</td>\n",
       "      <td>Reactjs Developer</td>\n",
       "    </tr>\n",
       "    <tr>\n",
       "      <th>11</th>\n",
       "      <td>SUSOVAN  BAG   \\n\\nSeeking  a  challenging  po...</td>\n",
       "      <td>Reactjs Developer</td>\n",
       "    </tr>\n",
       "    <tr>\n",
       "      <th>12</th>\n",
       "      <td>Kanumuru Deepak Reddy\\n\\n\\n\\n\\t\\n\\n\\n\\nCAREER ...</td>\n",
       "      <td>Reactjs Developer</td>\n",
       "    </tr>\n",
       "    <tr>\n",
       "      <th>13</th>\n",
       "      <td>HARIPRIYA BATTINA \\n\\nExperience as UI Develop...</td>\n",
       "      <td>Reactjs Developer</td>\n",
       "    </tr>\n",
       "    <tr>\n",
       "      <th>14</th>\n",
       "      <td>KAMALAKAR REDDY. A \\n\\nLinked In: https://www....</td>\n",
       "      <td>Reactjs Developer</td>\n",
       "    </tr>\n",
       "    <tr>\n",
       "      <th>15</th>\n",
       "      <td>Naveen Sadhu\\n\\n\\n\\n\\n\\nTitle: software develo...</td>\n",
       "      <td>Reactjs Developer</td>\n",
       "    </tr>\n",
       "    <tr>\n",
       "      <th>16</th>\n",
       "      <td>PRAGNYA PATTNAIK\\n\\n \\n\\n \\n\\n \\n\\n Expertise:...</td>\n",
       "      <td>Reactjs Developer</td>\n",
       "    </tr>\n",
       "    <tr>\n",
       "      <th>17</th>\n",
       "      <td>SARALA MADASU\\n\\nSARALA MADASU\\n\\n 204,Sri ge...</td>\n",
       "      <td>Reactjs Developer</td>\n",
       "    </tr>\n",
       "    <tr>\n",
       "      <th>18</th>\n",
       "      <td>Thirupathamma Balla\\n\\n\\n\\nSUMMARY:\\n\\n\\n\\n2.8...</td>\n",
       "      <td>Reactjs Developer</td>\n",
       "    </tr>\n",
       "    <tr>\n",
       "      <th>19</th>\n",
       "      <td>Ui-Developer/ React JS Developer \\n\\nNAME: KRI...</td>\n",
       "      <td>Reactjs Developer</td>\n",
       "    </tr>\n",
       "    <tr>\n",
       "      <th>20</th>\n",
       "      <td>Ui-Developer/ React JS Developer \\n\\nNAME: KRI...</td>\n",
       "      <td>Reactjs Developer</td>\n",
       "    </tr>\n",
       "    <tr>\n",
       "      <th>21</th>\n",
       "      <td>Kotani Durga Prasad\\n\\n\\n\\n\\n\\nObjective:\\n\\n\\...</td>\n",
       "      <td>Reactjs Developer</td>\n",
       "    </tr>\n",
       "    <tr>\n",
       "      <th>22</th>\n",
       "      <td>Venkatalakshmi Pedireddy\\n\\nSoftware Developer...</td>\n",
       "      <td>Reactjs Developer</td>\n",
       "    </tr>\n",
       "    <tr>\n",
       "      <th>23</th>\n",
       "      <td>KAMBALA SAI SURENDRA   \\n\\n \\n\\n \\n\\n \\n\\n\\n\\n...</td>\n",
       "      <td>Reactjs Developer</td>\n",
       "    </tr>\n",
       "    <tr>\n",
       "      <th>24</th>\n",
       "      <td>MAREEDU LOKESH BABU\\n\\nPROFESSIONAL OVERVIEW\\n...</td>\n",
       "      <td>Reactjs Developer</td>\n",
       "    </tr>\n",
       "    <tr>\n",
       "      <th>25</th>\n",
       "      <td>MAREEDU LOKESH BABU\\n\\n\\n\\nPROFESSIONAL OVERVI...</td>\n",
       "      <td>Reactjs Developer</td>\n",
       "    </tr>\n",
       "    <tr>\n",
       "      <th>26</th>\n",
       "      <td>MD KHIZARUDDIN RAUF \\n\\n \\t EXPERIENCE \\n\\n   ...</td>\n",
       "      <td>Reactjs Developer</td>\n",
       "    </tr>\n",
       "    <tr>\n",
       "      <th>27</th>\n",
       "      <td>Pranish Sonone\\n\\n\\t\\t\\n\\n\\n\\n\\n\\n\\n\\n\\n\\nCare...</td>\n",
       "      <td>Reactjs Developer</td>\n",
       "    </tr>\n",
       "    <tr>\n",
       "      <th>28</th>\n",
       "      <td>Ranga Gaganam  \\n\\n\\n\\n \\n\\nProfessional\\n\\n \\...</td>\n",
       "      <td>Reactjs Developer</td>\n",
       "    </tr>\n",
       "    <tr>\n",
       "      <th>29</th>\n",
       "      <td>SHAIK ABDUL SHARUK   \\n\\n2 years’ Experience i...</td>\n",
       "      <td>Reactjs Developer</td>\n",
       "    </tr>\n",
       "    <tr>\n",
       "      <th>30</th>\n",
       "      <td>ANIL KUMAR MADDUKURI  \\t\\t\\n\\nSQL &amp; MSBI Devel...</td>\n",
       "      <td>SQL Developer Lightning insight</td>\n",
       "    </tr>\n",
       "    <tr>\n",
       "      <th>31</th>\n",
       "      <td>Aradhana Tripathi\\n\\n\\n\\nCurrent Location: Gac...</td>\n",
       "      <td>SQL Developer Lightning insight</td>\n",
       "    </tr>\n",
       "    <tr>\n",
       "      <th>32</th>\n",
       "      <td>BUDDHA VAMSI                                  ...</td>\n",
       "      <td>SQL Developer Lightning insight</td>\n",
       "    </tr>\n",
       "    <tr>\n",
       "      <th>33</th>\n",
       "      <td>KAMBALLA PRADEEP                              ...</td>\n",
       "      <td>SQL Developer Lightning insight</td>\n",
       "    </tr>\n",
       "    <tr>\n",
       "      <th>34</th>\n",
       "      <td>Resume\\n\\nName     :  Neeraj Mishra\\n\\n\\n\\nExp...</td>\n",
       "      <td>SQL Developer Lightning insight</td>\n",
       "    </tr>\n",
       "    <tr>\n",
       "      <th>35</th>\n",
       "      <td>SQL DEVELOPER\\n\\nName: -   Bandi prem sai\\n\\n\\...</td>\n",
       "      <td>SQL Developer Lightning insight</td>\n",
       "    </tr>\n",
       "    <tr>\n",
       "      <th>36</th>\n",
       "      <td>SQL SERVER DEVELOPER\\n\\n\\n\\n\\n\\nP. Syam Kumar ...</td>\n",
       "      <td>SQL Developer Lightning insight</td>\n",
       "    </tr>\n",
       "    <tr>\n",
       "      <th>37</th>\n",
       "      <td>RAJU PAVANA KUMARI\\n\\n\\n\\n\\t\\n\\n\\tProfessional...</td>\n",
       "      <td>SQL Developer Lightning insight</td>\n",
       "    </tr>\n",
       "    <tr>\n",
       "      <th>38</th>\n",
       "      <td>resume\\n\\n\\n\\n\\n\\n\\t\\t\\t\\t\\t\\t\\t\\t\\t\\t\\t\\tRama...</td>\n",
       "      <td>SQL Developer Lightning insight</td>\n",
       "    </tr>\n",
       "    <tr>\n",
       "      <th>39</th>\n",
       "      <td>Name: Ramesh\\n\\n\\t\\n\\n\\tCareer Objective: \\n\\n...</td>\n",
       "      <td>SQL Developer Lightning insight</td>\n",
       "    </tr>\n",
       "    <tr>\n",
       "      <th>40</th>\n",
       "      <td>SQL AND MSBI DEVELOPER\\n\\nSQL AND MSBI DEVELOP...</td>\n",
       "      <td>SQL Developer Lightning insight</td>\n",
       "    </tr>\n",
       "    <tr>\n",
       "      <th>41</th>\n",
       "      <td>Chinna Subbarayudu M\\n\\nDOB: 06th March 1994\\n...</td>\n",
       "      <td>workday resumes</td>\n",
       "    </tr>\n",
       "    <tr>\n",
       "      <th>42</th>\n",
       "      <td>Name         : Gopi Krishna Reddy\\n\\n\\t\\t     ...</td>\n",
       "      <td>workday resumes</td>\n",
       "    </tr>\n",
       "    <tr>\n",
       "      <th>43</th>\n",
       "      <td>G Himaja\\n\\n                                  ...</td>\n",
       "      <td>workday resumes</td>\n",
       "    </tr>\n",
       "    <tr>\n",
       "      <th>44</th>\n",
       "      <td>JYOTI VERMA\\t\\t\\t\\t\\t\\n\\n\\n\\nPROFESSIONAL SUMM...</td>\n",
       "      <td>workday resumes</td>\n",
       "    </tr>\n",
       "    <tr>\n",
       "      <th>45</th>\n",
       "      <td>Mooraboyina Guravaiah\\n\\nWorkday Integration S...</td>\n",
       "      <td>workday resumes</td>\n",
       "    </tr>\n",
       "    <tr>\n",
       "      <th>46</th>\n",
       "      <td>VENKATA SAIKRISHNA\\n\\n Workday Consultant\\n\\n\\...</td>\n",
       "      <td>workday resumes</td>\n",
       "    </tr>\n",
       "    <tr>\n",
       "      <th>47</th>\n",
       "      <td>Workday HCM  Techno functional Consultant     ...</td>\n",
       "      <td>workday resumes</td>\n",
       "    </tr>\n",
       "    <tr>\n",
       "      <th>48</th>\n",
       "      <td>Ramesh A\\t\\t\\t\\t\\t\\t\\t\\t\\t\\t\\t\\t\\t\\t\\t\\t\\t\\t\\t...</td>\n",
       "      <td>workday resumes</td>\n",
       "    </tr>\n",
       "    <tr>\n",
       "      <th>49</th>\n",
       "      <td>Srikanth (WORKDAY hCM Consultant)\\t           ...</td>\n",
       "      <td>workday resumes</td>\n",
       "    </tr>\n",
       "    <tr>\n",
       "      <th>50</th>\n",
       "      <td>WORKDAY | HCM | FCM\\n\\nName \\t\\t: Kumar S.S\\n\\...</td>\n",
       "      <td>workday resumes</td>\n",
       "    </tr>\n",
       "    <tr>\n",
       "      <th>51</th>\n",
       "      <td>Vinay kumar .v\\nWorkday Functional Consultant\\...</td>\n",
       "      <td>workday resumes</td>\n",
       "    </tr>\n",
       "  </tbody>\n",
       "</table>\n",
       "</div>"
      ],
      "text/plain": [
       "                                          Raw_Details  \\\n",
       "0   Anubhav Kumar Singh\\t\\t\\n\\n\\n\\nCore Competenci...   \n",
       "1   Classification: Internal\\n\\nClassification: In...   \n",
       "2   SIRAZUDDIN M\\n\\n\\tBangalore, INDIA\\t\\n\\n\\n\\n\\n...   \n",
       "3   PeopleSoft Admin\\n\\nVARKALA VIKAS\\n\\n\\n\\nCaree...   \n",
       "4   PeopleSoft Administration\\n\\n \\n\\nVivekanand S...   \n",
       "5   Hari Narayana \\t\\t              \\n\\n\\t\\n\\n\\n\\n...   \n",
       "6   Murali\\t\\t       \\n\\n\\t\\n\\n\\n\\n\\n\\n\\n\\n\\n\\n\\n\\...   \n",
       "7   Priyabrata Hota\\n\\n\\n\\n\\n\\nCAREER OBJECTIVE\\t\\...   \n",
       "8   Tanna Sujatha \\n\\n\\n\\n\\n\\n\\n\\nOBJECTIVE\\n\\nSee...   \n",
       "9   C O N T A C T :\\n\\n\\n\\nAddress: Manyata Tech P...   \n",
       "10  Name: Ravali P \\n\\n\\n\\n                       ...   \n",
       "11  SUSOVAN  BAG   \\n\\nSeeking  a  challenging  po...   \n",
       "12  Kanumuru Deepak Reddy\\n\\n\\n\\n\\t\\n\\n\\n\\nCAREER ...   \n",
       "13  HARIPRIYA BATTINA \\n\\nExperience as UI Develop...   \n",
       "14  KAMALAKAR REDDY. A \\n\\nLinked In: https://www....   \n",
       "15  Naveen Sadhu\\n\\n\\n\\n\\n\\nTitle: software develo...   \n",
       "16  PRAGNYA PATTNAIK\\n\\n \\n\\n \\n\\n \\n\\n Expertise:...   \n",
       "17  SARALA MADASU\\n\\nSARALA MADASU\\n\\n 204,Sri ge...   \n",
       "18  Thirupathamma Balla\\n\\n\\n\\nSUMMARY:\\n\\n\\n\\n2.8...   \n",
       "19  Ui-Developer/ React JS Developer \\n\\nNAME: KRI...   \n",
       "20  Ui-Developer/ React JS Developer \\n\\nNAME: KRI...   \n",
       "21  Kotani Durga Prasad\\n\\n\\n\\n\\n\\nObjective:\\n\\n\\...   \n",
       "22  Venkatalakshmi Pedireddy\\n\\nSoftware Developer...   \n",
       "23  KAMBALA SAI SURENDRA   \\n\\n \\n\\n \\n\\n \\n\\n\\n\\n...   \n",
       "24  MAREEDU LOKESH BABU\\n\\nPROFESSIONAL OVERVIEW\\n...   \n",
       "25  MAREEDU LOKESH BABU\\n\\n\\n\\nPROFESSIONAL OVERVI...   \n",
       "26  MD KHIZARUDDIN RAUF \\n\\n \\t EXPERIENCE \\n\\n   ...   \n",
       "27  Pranish Sonone\\n\\n\\t\\t\\n\\n\\n\\n\\n\\n\\n\\n\\n\\nCare...   \n",
       "28  Ranga Gaganam  \\n\\n\\n\\n \\n\\nProfessional\\n\\n \\...   \n",
       "29  SHAIK ABDUL SHARUK   \\n\\n2 years’ Experience i...   \n",
       "30  ANIL KUMAR MADDUKURI  \\t\\t\\n\\nSQL & MSBI Devel...   \n",
       "31  Aradhana Tripathi\\n\\n\\n\\nCurrent Location: Gac...   \n",
       "32  BUDDHA VAMSI                                  ...   \n",
       "33  KAMBALLA PRADEEP                              ...   \n",
       "34  Resume\\n\\nName     :  Neeraj Mishra\\n\\n\\n\\nExp...   \n",
       "35  SQL DEVELOPER\\n\\nName: -   Bandi prem sai\\n\\n\\...   \n",
       "36  SQL SERVER DEVELOPER\\n\\n\\n\\n\\n\\nP. Syam Kumar ...   \n",
       "37  RAJU PAVANA KUMARI\\n\\n\\n\\n\\t\\n\\n\\tProfessional...   \n",
       "38  resume\\n\\n\\n\\n\\n\\n\\t\\t\\t\\t\\t\\t\\t\\t\\t\\t\\t\\tRama...   \n",
       "39  Name: Ramesh\\n\\n\\t\\n\\n\\tCareer Objective: \\n\\n...   \n",
       "40  SQL AND MSBI DEVELOPER\\n\\nSQL AND MSBI DEVELOP...   \n",
       "41  Chinna Subbarayudu M\\n\\nDOB: 06th March 1994\\n...   \n",
       "42  Name         : Gopi Krishna Reddy\\n\\n\\t\\t     ...   \n",
       "43  G Himaja\\n\\n                                  ...   \n",
       "44  JYOTI VERMA\\t\\t\\t\\t\\t\\n\\n\\n\\nPROFESSIONAL SUMM...   \n",
       "45  Mooraboyina Guravaiah\\n\\nWorkday Integration S...   \n",
       "46  VENKATA SAIKRISHNA\\n\\n Workday Consultant\\n\\n\\...   \n",
       "47  Workday HCM  Techno functional Consultant     ...   \n",
       "48  Ramesh A\\t\\t\\t\\t\\t\\t\\t\\t\\t\\t\\t\\t\\t\\t\\t\\t\\t\\t\\t...   \n",
       "49  Srikanth (WORKDAY hCM Consultant)\\t           ...   \n",
       "50  WORKDAY | HCM | FCM\\n\\nName \\t\\t: Kumar S.S\\n\\...   \n",
       "51  Vinay kumar .v\\nWorkday Functional Consultant\\...   \n",
       "\n",
       "                           Category  \n",
       "0                PeopleSoft resumes  \n",
       "1                PeopleSoft resumes  \n",
       "2                PeopleSoft resumes  \n",
       "3                PeopleSoft resumes  \n",
       "4                PeopleSoft resumes  \n",
       "5                PeopleSoft resumes  \n",
       "6                PeopleSoft resumes  \n",
       "7                PeopleSoft resumes  \n",
       "8                PeopleSoft resumes  \n",
       "9                PeopleSoft resumes  \n",
       "10                Reactjs Developer  \n",
       "11                Reactjs Developer  \n",
       "12                Reactjs Developer  \n",
       "13                Reactjs Developer  \n",
       "14                Reactjs Developer  \n",
       "15                Reactjs Developer  \n",
       "16                Reactjs Developer  \n",
       "17                Reactjs Developer  \n",
       "18                Reactjs Developer  \n",
       "19                Reactjs Developer  \n",
       "20                Reactjs Developer  \n",
       "21                Reactjs Developer  \n",
       "22                Reactjs Developer  \n",
       "23                Reactjs Developer  \n",
       "24                Reactjs Developer  \n",
       "25                Reactjs Developer  \n",
       "26                Reactjs Developer  \n",
       "27                Reactjs Developer  \n",
       "28                Reactjs Developer  \n",
       "29                Reactjs Developer  \n",
       "30  SQL Developer Lightning insight  \n",
       "31  SQL Developer Lightning insight  \n",
       "32  SQL Developer Lightning insight  \n",
       "33  SQL Developer Lightning insight  \n",
       "34  SQL Developer Lightning insight  \n",
       "35  SQL Developer Lightning insight  \n",
       "36  SQL Developer Lightning insight  \n",
       "37  SQL Developer Lightning insight  \n",
       "38  SQL Developer Lightning insight  \n",
       "39  SQL Developer Lightning insight  \n",
       "40  SQL Developer Lightning insight  \n",
       "41                  workday resumes  \n",
       "42                  workday resumes  \n",
       "43                  workday resumes  \n",
       "44                  workday resumes  \n",
       "45                  workday resumes  \n",
       "46                  workday resumes  \n",
       "47                  workday resumes  \n",
       "48                  workday resumes  \n",
       "49                  workday resumes  \n",
       "50                  workday resumes  \n",
       "51                  workday resumes  "
      ]
     },
     "execution_count": 2,
     "metadata": {},
     "output_type": "execute_result"
    }
   ],
   "source": [
    "# load the dataset\n",
    "data = pd.read_csv('allresume.csv')\n",
    "data"
   ]
  },
  {
   "cell_type": "code",
   "execution_count": 3,
   "id": "6ef99996",
   "metadata": {},
   "outputs": [
    {
     "name": "stdout",
     "output_type": "stream",
     "text": [
      "(52, 2)\n"
     ]
    }
   ],
   "source": [
    "# Dimensions of the dataset\n",
    "print(data.shape) "
   ]
  },
  {
   "cell_type": "code",
   "execution_count": 4,
   "id": "3e0f2669",
   "metadata": {},
   "outputs": [
    {
     "name": "stdout",
     "output_type": "stream",
     "text": [
      "                                         Raw_Details            Category\n",
      "0  Anubhav Kumar Singh\\t\\t\\n\\n\\n\\nCore Competenci...  PeopleSoft resumes\n",
      "1  Classification: Internal\\n\\nClassification: In...  PeopleSoft resumes\n",
      "2  SIRAZUDDIN M\\n\\n\\tBangalore, INDIA\\t\\n\\n\\n\\n\\n...  PeopleSoft resumes\n",
      "3  PeopleSoft Admin\\n\\nVARKALA VIKAS\\n\\n\\n\\nCaree...  PeopleSoft resumes\n",
      "4  PeopleSoft Administration\\n\\n \\n\\nVivekanand S...  PeopleSoft resumes\n"
     ]
    }
   ],
   "source": [
    "# First few rows of the dataset\n",
    "print(data.head()) "
   ]
  },
  {
   "cell_type": "code",
   "execution_count": 5,
   "id": "d5efcc73",
   "metadata": {},
   "outputs": [
    {
     "name": "stdout",
     "output_type": "stream",
     "text": [
      "<class 'pandas.core.frame.DataFrame'>\n",
      "RangeIndex: 52 entries, 0 to 51\n",
      "Data columns (total 2 columns):\n",
      " #   Column       Non-Null Count  Dtype \n",
      "---  ------       --------------  ----- \n",
      " 0   Raw_Details  52 non-null     object\n",
      " 1   Category     52 non-null     object\n",
      "dtypes: object(2)\n",
      "memory usage: 960.0+ bytes\n",
      "None\n"
     ]
    }
   ],
   "source": [
    "print(data.info())  # General information about the dataset"
   ]
  },
  {
   "cell_type": "code",
   "execution_count": 6,
   "id": "fc043b58",
   "metadata": {},
   "outputs": [
    {
     "name": "stdout",
     "output_type": "stream",
     "text": [
      "                                              Raw_Details           Category\n",
      "count                                                  52                 52\n",
      "unique                                                 52                  4\n",
      "top     Anubhav Kumar Singh\\t\\t\\n\\n\\n\\nCore Competenci...  Reactjs Developer\n",
      "freq                                                    1                 20\n"
     ]
    }
   ],
   "source": [
    "print(data.describe())  # Summary statistics of numerical columns"
   ]
  },
  {
   "cell_type": "code",
   "execution_count": 7,
   "id": "0f847c26",
   "metadata": {},
   "outputs": [
    {
     "name": "stderr",
     "output_type": "stream",
     "text": [
      "C:\\Users\\Sarth Naik\\anaconda3\\lib\\site-packages\\seaborn\\_decorators.py:36: FutureWarning: Pass the following variable as a keyword arg: x. From version 0.12, the only valid positional argument will be `data`, and passing other arguments without an explicit keyword will result in an error or misinterpretation.\n",
      "  warnings.warn(\n"
     ]
    },
    {
     "data": {
      "image/png": "[encoded data removed]",
      "text/plain": [
       "<Figure size 576x432 with 1 Axes>"
      ]
     },
     "metadata": {
      "needs_background": "light"
     },
     "output_type": "display_data"
    }
   ],
   "source": [
    "# Visualize the distribution of target labels (resume categories)\n",
    "plt.figure(figsize=(8, 6))\n",
    "sns.countplot(data['Category'])\n",
    "plt.title('Distribution of Resume Categories')\n",
    "plt.xticks(rotation=45)\n",
    "plt.show()"
   ]
  },
  {
   "cell_type": "code",
   "execution_count": 8,
   "id": "3a3f4b70",
   "metadata": {},
   "outputs": [
    {
     "data": {
      "image/png": "[encoded data removed]",
      "text/plain": [
       "<Figure size 720x720 with 1 Axes>"
      ]
     },
     "metadata": {},
     "output_type": "display_data"
    }
   ],
   "source": [
    "from matplotlib.gridspec import GridSpec\n",
    "targetCounts = data['Category'].value_counts()\n",
    "targetLabels  = data['Category'].unique()\n",
    "# Make square figures and axes\n",
    "plt.figure(1, figsize=(10,10))\n",
    "the_grid = GridSpec(2, 2)\n",
    "\n",
    "#add colors\n",
    "colors = ['#ff9999','#66b3ff','#99ff99','#ffcc99']\n",
    "\n",
    "plt.subplot(the_grid[0, 1], aspect=1, title='CATEGORY DISTRIBUTION')\n",
    "\n",
    "source_pie = plt.pie(targetCounts, labels=targetLabels, autopct='%1.1f%%', shadow=True, colors=colors)\n",
    "plt.show()"
   ]
  },
  {
   "cell_type": "code",
   "execution_count": 9,
   "id": "f4d99e56",
   "metadata": {},
   "outputs": [
    {
     "name": "stdout",
     "output_type": "stream",
     "text": [
      "Displaying the distinct categories of resume and the number of records belonging to each category -\n",
      "Reactjs Developer                  20\n",
      "SQL Developer Lightning insight    11\n",
      "workday resumes                    11\n",
      "PeopleSoft resumes                 10\n",
      "Name: Category, dtype: int64\n"
     ]
    }
   ],
   "source": [
    "print (\"Displaying the distinct categories of resume and the number of records belonging to each category -\")\n",
    "print (data['Category'].value_counts())"
   ]
  },
  {
   "cell_type": "code",
   "execution_count": 10,
   "id": "3799500c",
   "metadata": {},
   "outputs": [],
   "source": [
    "# Create a word cloud to visualize common words in resume text\n",
    "#text = \" \".join(resume for resume in data['Raw_Details'])\n",
    "#wordcloud = WordCloud(width=800, height=400, background_color='white').generate(text)\n",
    "\n",
    "#plt.figure(figsize=(10, 6))\n",
    "#plt.imshow(wordcloud, interpolation='bilinear')\n",
    "#plt.axis('off')\n",
    "#plt.title('Common Words in Resumes')\n",
    "#plt.show()"
   ]
  },
  {
   "cell_type": "code",
   "execution_count": 11,
   "id": "4b90a792",
   "metadata": {},
   "outputs": [
    {
     "data": {
      "text/plain": [
       "<Axes: xlabel='count', ylabel='Category'>"
      ]
     },
     "execution_count": 11,
     "metadata": {},
     "output_type": "execute_result"
    },
    {
     "data": {
      "image/png": "[encoded data removed]",
      "text/plain": [
       "<Figure size 576x576 with 1 Axes>"
      ]
     },
     "metadata": {
      "needs_background": "light"
     },
     "output_type": "display_data"
    }
   ],
   "source": [
    "plt.figure(figsize=(8,8))\n",
    "plt.xticks(rotation=90)\n",
    "sns.countplot(y=\"Category\", data=data)"
   ]
  },
  {
   "cell_type": "code",
   "execution_count": 12,
   "id": "e80d93b8",
   "metadata": {},
   "outputs": [
    {
     "data": {
      "image/png": "[encoded data removed]",
      "text/plain": [
       "<Figure size 576x432 with 1 Axes>"
      ]
     },
     "metadata": {
      "needs_background": "light"
     },
     "output_type": "display_data"
    }
   ],
   "source": [
    "# Visualize the distribution of text lengths (number of words)\n",
    "data['text_length'] = data['Raw_Details'].apply(lambda x: len(x.split()))\n",
    "plt.figure(figsize=(8, 6))\n",
    "sns.histplot(data['text_length'], bins=30, kde=True)\n",
    "plt.title('Distribution of Text Length in Resumes')\n",
    "plt.xlabel('Number of Words')\n",
    "plt.ylabel('Count')\n",
    "plt.show()"
   ]
  },
  {
   "cell_type": "code",
   "execution_count": 13,
   "id": "8fa40a2e",
   "metadata": {},
   "outputs": [
    {
     "data": {
      "image/png": "[encoded data removed]",
      "text/plain": [
       "<Figure size 576x576 with 1 Axes>"
      ]
     },
     "metadata": {
      "needs_background": "light"
     },
     "output_type": "display_data"
    },
    {
     "data": {
      "image/png": "[encoded data removed]",
      "text/plain": [
       "<Figure size 576x576 with 1 Axes>"
      ]
     },
     "metadata": {
      "needs_background": "light"
     },
     "output_type": "display_data"
    },
    {
     "data": {
      "image/png": "[encoded data removed]",
      "text/plain": [
       "<Figure size 576x576 with 1 Axes>"
      ]
     },
     "metadata": {
      "needs_background": "light"
     },
     "output_type": "display_data"
    },
    {
     "data": {
      "image/png": "[encoded data removed]",
      "text/plain": [
       "<Figure size 576x576 with 1 Axes>"
      ]
     },
     "metadata": {
      "needs_background": "light"
     },
     "output_type": "display_data"
    }
   ],
   "source": [
    "from collections import Counter\n",
    "import matplotlib.pyplot as plt\n",
    "\n",
    "word_freq = Counter()\n",
    "\n",
    "# Assuming 'data' is your DataFrame with resume data\n",
    "for category in data['Category'].unique():\n",
    "    text = \" \".join(data[data['Category'] == category]['Raw_Details'])\n",
    "    word_counter = Counter(text.split())\n",
    "    # Get the top 10 most common words\n",
    "    top_10_words = dict(word_counter.most_common(10))\n",
    "    word_freq[category] = top_10_words\n",
    "\n",
    "for category, freq in word_freq.items():\n",
    "    plt.figure(figsize=(8, 8))\n",
    "    plt.bar(freq.keys(), freq.values())\n",
    "    plt.title(f'Top 10 Word Frequency in {category} Resumes')\n",
    "    plt.xlabel('Words')\n",
    "    plt.ylabel('Frequency')\n",
    "    plt.xticks(rotation=45)\n",
    "    plt.show()\n"
   ]
  },
  {
   "cell_type": "code",
   "execution_count": 14,
   "id": "00ef0019",
   "metadata": {},
   "outputs": [
    {
     "data": {
      "image/png": "[encoded data removed]",
      "text/plain": [
       "<Figure size 432x288 with 1 Axes>"
      ]
     },
     "metadata": {
      "needs_background": "light"
     },
     "output_type": "display_data"
    }
   ],
   "source": [
    "sns.boxplot(x='Category', y='text_length', data=data)\n",
    "plt.title('Text Length vs. Resume Category')\n",
    "plt.xticks(rotation=45)\n",
    "plt.show()"
   ]
  },
  {
   "cell_type": "code",
   "execution_count": 15,
   "id": "eeeaece8",
   "metadata": {},
   "outputs": [],
   "source": [
    "#Data Preprocessing\n",
    "import re\n",
    "def cleanResume(resumeText):\n",
    "    resumeText = re.sub('http\\S+\\s*', ' ', resumeText)  # remove URLs\n",
    "    resumeText = re.sub('RT|cc', ' ', resumeText)  # remove RT and cc\n",
    "    resumeText = re.sub('#\\S+', '', resumeText)  # remove hashtags\n",
    "    resumeText = re.sub('@\\S+', '  ', resumeText)  # remove mentions\n",
    "    resumeText = re.sub('[%s]' % re.escape(\"\"\"!\"#$%&'()*+,-./:;<=>?@[\\]^_`{|}~\"\"\"), ' ', resumeText)  # remove punctuations\n",
    "    resumeText = re.sub(r'[^\\x00-\\x7f]',r' ', resumeText) \n",
    "    resumeText = re.sub('\\s+', ' ', resumeText)  # remove extra whitespace\n",
    "    return resumeText\n",
    "    \n",
    "data['cleaned_resume'] = data.Raw_Details.apply(lambda x: cleanResume(x))"
   ]
  },
  {
   "cell_type": "code",
   "execution_count": 16,
   "id": "419f8c07",
   "metadata": {},
   "outputs": [
    {
     "name": "stdout",
     "output_type": "stream",
     "text": [
      "[('using', 247), ('SQL', 202), ('Workday', 188), ('Experience', 173), ('PeopleSoft', 162), ('Application', 139), ('experience', 134), ('Project', 131), ('Server', 126), ('data', 125), ('React', 123), ('business', 113), ('2', 106), ('8', 103), ('various', 95), ('like', 94), ('knowledge', 94), ('reports', 94), ('HCM', 92), ('Web', 87), ('Involved', 85), ('Good', 79), ('I', 75), ('Reports', 75), ('Developer', 75), ('system', 74), ('Worked', 71), ('EIB', 71), ('1', 70), ('People', 68), ('9', 68), ('process', 68), ('application', 67), ('working', 65), ('creating', 65), ('Responsibilities', 64), ('Role', 62), ('Tools', 62), ('Created', 61), ('JS', 61), ('Oracle', 59), ('support', 59), ('new', 59), ('Windows', 58), ('issues', 56), ('Client', 56), ('Core', 55), ('Process', 55), ('3', 55), ('integrations', 55)]\n"
     ]
    }
   ],
   "source": [
    "import nltk\n",
    "from nltk.corpus import stopwords\n",
    "import string\n",
    "\n",
    "\n",
    "# Initialize NLTK stopwords and punctuation\n",
    "oneSetOfStopWords = set(stopwords.words('english') + ['``', \"''\"])\n",
    "totalWords = []\n",
    "Sentences = data['Raw_Details'].values\n",
    "cleanedSentences = \"\"\n",
    "\n",
    "\n",
    "for i in range(min(len(Sentences), 160)):\n",
    "    cleanedText = cleanResume(Sentences[i])\n",
    "    cleanedSentences += cleanedText\n",
    "    requiredWords = nltk.word_tokenize(cleanedText)\n",
    "    for word in requiredWords:\n",
    "        if word not in oneSetOfStopWords and word not in string.punctuation:\n",
    "            totalWords.append(word)\n",
    "\n",
    "wordfreqdist = nltk.FreqDist(totalWords)\n",
    "mostcommon = wordfreqdist.most_common(50)\n",
    "print(mostcommon)\n",
    "\n"
   ]
  },
  {
   "cell_type": "code",
   "execution_count": 17,
   "id": "be890f3d",
   "metadata": {},
   "outputs": [],
   "source": [
    "#nltk.download('stopwords')"
   ]
  },
  {
   "cell_type": "code",
   "execution_count": 18,
   "id": "cf008a46",
   "metadata": {},
   "outputs": [],
   "source": [
    "from sklearn.preprocessing import LabelEncoder\n",
    "\n",
    "var_mod = ['Category']\n",
    "le = LabelEncoder()\n",
    "for i in var_mod:\n",
    "    data[i] = le.fit_transform(data[i])"
   ]
  },
  {
   "cell_type": "markdown",
   "id": "4c0bbb28",
   "metadata": {},
   "source": [
    "### MODELS"
   ]
  },
  {
   "cell_type": "code",
   "execution_count": 19,
   "id": "a7c59b7a",
   "metadata": {},
   "outputs": [
    {
     "name": "stdout",
     "output_type": "stream",
     "text": [
      "Feature completed .....\n",
      "(41, 1500)\n",
      "(11, 1500)\n"
     ]
    }
   ],
   "source": [
    "from sklearn.model_selection import train_test_split\n",
    "from sklearn.feature_extraction.text import TfidfVectorizer\n",
    "from scipy.sparse import hstack\n",
    "\n",
    "requiredText = data['Raw_Details'].values\n",
    "requiredTarget = data['Category'].values\n",
    "\n",
    "word_vectorizer = TfidfVectorizer(\n",
    "    sublinear_tf=True,\n",
    "    stop_words='english',\n",
    "    max_features=1500)\n",
    "word_vectorizer.fit(requiredText)\n",
    "WordFeatures = word_vectorizer.transform(requiredText)\n",
    "\n",
    "print (\"Feature completed .....\")\n",
    "\n",
    "X_train,X_test,y_train,y_test = train_test_split(WordFeatures,requiredTarget,random_state=0, test_size=0.2)\n",
    "print(X_train.shape)\n",
    "print(X_test.shape)"
   ]
  },
  {
   "cell_type": "code",
   "execution_count": 20,
   "id": "9f458f89",
   "metadata": {},
   "outputs": [
    {
     "name": "stdout",
     "output_type": "stream",
     "text": [
      "Accuracy of KNeighbors Classifier on training set: 0.93\n",
      "Accuracy of KNeighbors Classifier on test set: 1.00\n",
      "\n",
      " Classification report for classifier OneVsRestClassifier(estimator=KNeighborsClassifier()):\n",
      "              precision    recall  f1-score   support\n",
      "\n",
      "           0       1.00      1.00      1.00         2\n",
      "           1       1.00      1.00      1.00         4\n",
      "           2       1.00      1.00      1.00         5\n",
      "\n",
      "    accuracy                           1.00        11\n",
      "   macro avg       1.00      1.00      1.00        11\n",
      "weighted avg       1.00      1.00      1.00        11\n",
      "\n",
      "\n"
     ]
    }
   ],
   "source": [
    "from sklearn.multiclass import OneVsRestClassifier\n",
    "from sklearn.svm import SVC \n",
    "from sklearn.neighbors import KNeighborsClassifier\n",
    "from sklearn import metrics\n",
    "clf = OneVsRestClassifier(KNeighborsClassifier())\n",
    "clf.fit(X_train, y_train)\n",
    "prediction = clf.predict(X_test)\n",
    "print('Accuracy of KNeighbors Classifier on training set: {:.2f}'.format(clf.score(X_train, y_train)))\n",
    "print('Accuracy of KNeighbors Classifier on test set: {:.2f}'.format(clf.score(X_test, y_test)))\n",
    "\n",
    "print(\"\\n Classification report for classifier %s:\\n%s\\n\" % (clf, metrics.classification_report(y_test, prediction)))"
   ]
  },
  {
   "cell_type": "code",
   "execution_count": 21,
   "id": "23d69b6f",
   "metadata": {},
   "outputs": [],
   "source": [
    "# Split the data into training and testing sets\n",
    "X = data['Raw_Details']  # Resume text\n",
    "y = data['Category']     # Resume category labels\n",
    "X_train, X_test, y_train, y_test = train_test_split(X, y, test_size=0.2, random_state=42)\n",
    "\n",
    "# TF-IDF vectorization\n",
    "tfidf_vectorizer = TfidfVectorizer(max_features=5000)  \n",
    "X_train_tfidf = tfidf_vectorizer.fit_transform(X_train)\n",
    "X_test_tfidf = tfidf_vectorizer.transform(X_test)"
   ]
  },
  {
   "cell_type": "code",
   "execution_count": 22,
   "id": "7b1aa014",
   "metadata": {},
   "outputs": [
    {
     "name": "stdout",
     "output_type": "stream",
     "text": [
      "SVM Accuracy: 1.00\n",
      "SVM Classification Report:\n",
      "              precision    recall  f1-score   support\n",
      "\n",
      "           0       1.00      1.00      1.00         2\n",
      "           1       1.00      1.00      1.00         4\n",
      "           2       1.00      1.00      1.00         1\n",
      "           3       1.00      1.00      1.00         4\n",
      "\n",
      "    accuracy                           1.00        11\n",
      "   macro avg       1.00      1.00      1.00        11\n",
      "weighted avg       1.00      1.00      1.00        11\n",
      "\n",
      "\n",
      "Random Forest Accuracy: 1.00\n",
      "Random Forest Classification Report:\n",
      "              precision    recall  f1-score   support\n",
      "\n",
      "           0       1.00      1.00      1.00         2\n",
      "           1       1.00      1.00      1.00         4\n",
      "           2       1.00      1.00      1.00         1\n",
      "           3       1.00      1.00      1.00         4\n",
      "\n",
      "    accuracy                           1.00        11\n",
      "   macro avg       1.00      1.00      1.00        11\n",
      "weighted avg       1.00      1.00      1.00        11\n",
      "\n",
      "\n",
      "XGBoost Accuracy: 1.00\n",
      "XGBoost Classification Report:\n",
      "              precision    recall  f1-score   support\n",
      "\n",
      "           0       1.00      1.00      1.00         2\n",
      "           1       1.00      1.00      1.00         4\n",
      "           2       1.00      1.00      1.00         1\n",
      "           3       1.00      1.00      1.00         4\n",
      "\n",
      "    accuracy                           1.00        11\n",
      "   macro avg       1.00      1.00      1.00        11\n",
      "weighted avg       1.00      1.00      1.00        11\n",
      "\n",
      "\n",
      "Logistic Regression Accuracy: 1.00\n",
      "Logistic Regression Classification Report:\n",
      "              precision    recall  f1-score   support\n",
      "\n",
      "           0       1.00      1.00      1.00         2\n",
      "           1       1.00      1.00      1.00         4\n",
      "           2       1.00      1.00      1.00         1\n",
      "           3       1.00      1.00      1.00         4\n",
      "\n",
      "    accuracy                           1.00        11\n",
      "   macro avg       1.00      1.00      1.00        11\n",
      "weighted avg       1.00      1.00      1.00        11\n",
      "\n",
      "\n",
      "Naive Bayes Accuracy: 1.00\n",
      "Naive Bayes Classification Report:\n",
      "              precision    recall  f1-score   support\n",
      "\n",
      "           0       1.00      1.00      1.00         2\n",
      "           1       1.00      1.00      1.00         4\n",
      "           2       1.00      1.00      1.00         1\n",
      "           3       1.00      1.00      1.00         4\n",
      "\n",
      "    accuracy                           1.00        11\n",
      "   macro avg       1.00      1.00      1.00        11\n",
      "weighted avg       1.00      1.00      1.00        11\n",
      "\n",
      "\n",
      "K-Nearest Neighbors Accuracy: 1.00\n",
      "K-Nearest Neighbors Classification Report:\n",
      "              precision    recall  f1-score   support\n",
      "\n",
      "           0       1.00      1.00      1.00         2\n",
      "           1       1.00      1.00      1.00         4\n",
      "           2       1.00      1.00      1.00         1\n",
      "           3       1.00      1.00      1.00         4\n",
      "\n",
      "    accuracy                           1.00        11\n",
      "   macro avg       1.00      1.00      1.00        11\n",
      "weighted avg       1.00      1.00      1.00        11\n",
      "\n",
      "\n"
     ]
    },
    {
     "name": "stderr",
     "output_type": "stream",
     "text": [
      "C:\\Users\\Sarth Naik\\anaconda3\\lib\\site-packages\\sklearn\\neighbors\\_classification.py:228: FutureWarning: Unlike other reduction functions (e.g. `skew`, `kurtosis`), the default behavior of `mode` typically preserves the axis it acts along. In SciPy 1.11.0, this behavior will change: the default value of `keepdims` will become False, the `axis` over which the statistic is taken will be eliminated, and the value None will no longer be accepted. Set `keepdims` to True or False to avoid this warning.\n",
      "  mode, _ = stats.mode(_y[neigh_ind, k], axis=1)\n"
     ]
    }
   ],
   "source": [
    "# Support Vector Machine (SVM) Classifier\n",
    "svm_classifier = SVC(kernel='linear')  # You can experiment with different kernels\n",
    "svm_classifier.fit(X_train_tfidf, y_train)\n",
    "svm_predictions = svm_classifier.predict(X_test_tfidf)\n",
    "\n",
    "# Random Forest Classifier\n",
    "rf_classifier = RandomForestClassifier(n_estimators=100, random_state=42)  # You can adjust n_estimators\n",
    "rf_classifier.fit(X_train_tfidf, y_train)\n",
    "rf_predictions = rf_classifier.predict(X_test_tfidf)\n",
    "\n",
    "# XGBoost Classifier\n",
    "xgb_classifier = xgb.XGBClassifier()\n",
    "xgb_classifier.fit(X_train_tfidf, y_train)\n",
    "xgb_predictions = xgb_classifier.predict(X_test_tfidf)\n",
    "\n",
    "# Logistic Regression Classifier\n",
    "lr_classifier = LogisticRegression(max_iter=1000)\n",
    "lr_classifier.fit(X_train_tfidf, y_train)\n",
    "lr_predictions = lr_classifier.predict(X_test_tfidf)\n",
    "\n",
    "# Naive Bayes (MultinomialNB) Classifier\n",
    "nb_classifier = MultinomialNB()\n",
    "nb_classifier.fit(X_train_tfidf, y_train)\n",
    "nb_predictions = nb_classifier.predict(X_test_tfidf)\n",
    "\n",
    "# K-Nearest Neighbors (KNN) Classifier\n",
    "knn_classifier = KNeighborsClassifier(n_neighbors=5)  # You can adjust n_neighbors\n",
    "knn_classifier.fit(X_train_tfidf, y_train)\n",
    "knn_predictions = knn_classifier.predict(X_test_tfidf)\n",
    "\n",
    "\n",
    "# Evaluate the models\n",
    "def evaluate_model(predictions, model_name):\n",
    "    accuracy = accuracy_score(y_test, predictions)\n",
    "    report = classification_report(y_test, predictions)\n",
    "    print(f\"{model_name} Accuracy: {accuracy:.2f}\")\n",
    "    print(f\"{model_name} Classification Report:\\n{report}\\n\")\n",
    "\n",
    "evaluate_model(svm_predictions, \"SVM\")\n",
    "evaluate_model(rf_predictions, \"Random Forest\")\n",
    "evaluate_model(xgb_predictions, \"XGBoost\")\n",
    "evaluate_model(lr_predictions, \"Logistic Regression\")\n",
    "evaluate_model(nb_predictions, \"Naive Bayes\")\n",
    "evaluate_model(knn_predictions, \"K-Nearest Neighbors\")"
   ]
  },
  {
   "cell_type": "code",
   "execution_count": 23,
   "id": "3b81ebad",
   "metadata": {},
   "outputs": [
    {
     "name": "stdout",
     "output_type": "stream",
     "text": [
      "            Classifier  Training Accuracy  Testing Accuracy\n",
      "0                  SVM            1.00000               1.0\n",
      "1        Random Forest            1.00000               1.0\n",
      "2              XGBoost            1.00000               1.0\n",
      "3  Logistic Regression            1.00000               1.0\n",
      "4          Naive Bayes            0.97561               1.0\n",
      "5  K-Nearest Neighbors            0.95122               1.0\n"
     ]
    },
    {
     "name": "stderr",
     "output_type": "stream",
     "text": [
      "C:\\Users\\Sarth Naik\\anaconda3\\lib\\site-packages\\sklearn\\neighbors\\_classification.py:228: FutureWarning: Unlike other reduction functions (e.g. `skew`, `kurtosis`), the default behavior of `mode` typically preserves the axis it acts along. In SciPy 1.11.0, this behavior will change: the default value of `keepdims` will become False, the `axis` over which the statistic is taken will be eliminated, and the value None will no longer be accepted. Set `keepdims` to True or False to avoid this warning.\n",
      "  mode, _ = stats.mode(_y[neigh_ind, k], axis=1)\n"
     ]
    }
   ],
   "source": [
    "from sklearn.metrics import accuracy_score\n",
    "\n",
    "# Calculate training accuracy for each classifier\n",
    "svm_train_accuracy = accuracy_score(y_train, svm_classifier.predict(X_train_tfidf))\n",
    "rf_train_accuracy = accuracy_score(y_train, rf_classifier.predict(X_train_tfidf))\n",
    "xgb_train_accuracy = accuracy_score(y_train, xgb_classifier.predict(X_train_tfidf))\n",
    "lr_train_accuracy = accuracy_score(y_train, lr_classifier.predict(X_train_tfidf))\n",
    "nb_train_accuracy = accuracy_score(y_train, nb_classifier.predict(X_train_tfidf))\n",
    "knn_train_accuracy = accuracy_score(y_train, knn_classifier.predict(X_train_tfidf))\n",
    "\n",
    "# Create a table to display training and testing accuracies\n",
    "import pandas as pd\n",
    "\n",
    "data = {\n",
    "    'Classifier': ['SVM', 'Random Forest', 'XGBoost', 'Logistic Regression', 'Naive Bayes', 'K-Nearest Neighbors'],\n",
    "    'Training Accuracy': [svm_train_accuracy, rf_train_accuracy, xgb_train_accuracy, lr_train_accuracy, nb_train_accuracy, knn_train_accuracy],\n",
    "    'Testing Accuracy': [accuracy_score(y_test, svm_predictions), accuracy_score(y_test, rf_predictions),\n",
    "                          accuracy_score(y_test, xgb_predictions), accuracy_score(y_test, lr_predictions),\n",
    "                          accuracy_score(y_test, nb_predictions), accuracy_score(y_test, knn_predictions)]\n",
    "}\n",
    "\n",
    "accuracy_table = pd.DataFrame(data)\n",
    "print(accuracy_table)\n"
   ]
  },
  {
   "cell_type": "code",
   "execution_count": 24,
   "id": "f06369ae",
   "metadata": {},
   "outputs": [
    {
     "data": {
      "image/png": "[encoded data removed]",
      "text/plain": [
       "<Figure size 720x432 with 1 Axes>"
      ]
     },
     "metadata": {
      "needs_background": "light"
     },
     "output_type": "display_data"
    }
   ],
   "source": [
    "accuracy_table = pd.DataFrame(data)\n",
    "\n",
    "bar_width = 0.35\n",
    "\n",
    "\n",
    "x_indices = np.arange(len(accuracy_table))\n",
    "\n",
    "plt.figure(figsize=(10, 6))\n",
    "plt.bar(x_indices - bar_width/2, accuracy_table['Training Accuracy'], bar_width, label='Training Accuracy', alpha=0.7)\n",
    "plt.bar(x_indices + bar_width/2, accuracy_table['Testing Accuracy'], bar_width, label='Testing Accuracy', alpha=0.7)\n",
    "plt.xlabel('Classifier')\n",
    "plt.ylabel('Accuracy')\n",
    "plt.title('Training and Testing Accuracy for Different Classifiers')\n",
    "plt.legend()\n",
    "plt.xticks(x_indices, accuracy_table['Classifier'], rotation=45)\n",
    "plt.tight_layout()\n",
    "plt.show()\n"
   ]
  },
  {
   "cell_type": "code",
   "execution_count": 25,
   "id": "de341f70",
   "metadata": {},
   "outputs": [
    {
     "name": "stdout",
     "output_type": "stream",
     "text": [
      "SVM Cross-Validation Scores: [0.88888889 0.875      1.         1.         1.        ]\n",
      "SVM Mean Accuracy: 0.95\n",
      "\n",
      "Random Forest Cross-Validation Scores: [0.88888889 0.875      1.         1.         0.75      ]\n",
      "Random Forest Mean Accuracy: 0.90\n",
      "\n",
      "XGBoost Cross-Validation Scores: [0.88888889 0.75       0.875      1.         0.75      ]\n",
      "XGBoost Mean Accuracy: 0.85\n",
      "\n",
      "Logistic Regression Cross-Validation Scores: [0.77777778 0.875      1.         1.         0.875     ]\n",
      "Logistic Regression Mean Accuracy: 0.91\n",
      "\n",
      "Naive Bayes Cross-Validation Scores: [0.66666667 0.875      0.75       1.         0.625     ]\n",
      "Naive Bayes Mean Accuracy: 0.78\n",
      "\n",
      "K-Nearest Neighbors Cross-Validation Scores: [0.77777778 0.875      1.         0.875      1.        ]\n",
      "K-Nearest Neighbors Mean Accuracy: 0.91\n",
      "\n"
     ]
    },
    {
     "name": "stderr",
     "output_type": "stream",
     "text": [
      "C:\\Users\\Sarth Naik\\anaconda3\\lib\\site-packages\\sklearn\\neighbors\\_classification.py:228: FutureWarning: Unlike other reduction functions (e.g. `skew`, `kurtosis`), the default behavior of `mode` typically preserves the axis it acts along. In SciPy 1.11.0, this behavior will change: the default value of `keepdims` will become False, the `axis` over which the statistic is taken will be eliminated, and the value None will no longer be accepted. Set `keepdims` to True or False to avoid this warning.\n",
      "  mode, _ = stats.mode(_y[neigh_ind, k], axis=1)\n",
      "C:\\Users\\Sarth Naik\\anaconda3\\lib\\site-packages\\sklearn\\neighbors\\_classification.py:228: FutureWarning: Unlike other reduction functions (e.g. `skew`, `kurtosis`), the default behavior of `mode` typically preserves the axis it acts along. In SciPy 1.11.0, this behavior will change: the default value of `keepdims` will become False, the `axis` over which the statistic is taken will be eliminated, and the value None will no longer be accepted. Set `keepdims` to True or False to avoid this warning.\n",
      "  mode, _ = stats.mode(_y[neigh_ind, k], axis=1)\n",
      "C:\\Users\\Sarth Naik\\anaconda3\\lib\\site-packages\\sklearn\\neighbors\\_classification.py:228: FutureWarning: Unlike other reduction functions (e.g. `skew`, `kurtosis`), the default behavior of `mode` typically preserves the axis it acts along. In SciPy 1.11.0, this behavior will change: the default value of `keepdims` will become False, the `axis` over which the statistic is taken will be eliminated, and the value None will no longer be accepted. Set `keepdims` to True or False to avoid this warning.\n",
      "  mode, _ = stats.mode(_y[neigh_ind, k], axis=1)\n",
      "C:\\Users\\Sarth Naik\\anaconda3\\lib\\site-packages\\sklearn\\neighbors\\_classification.py:228: FutureWarning: Unlike other reduction functions (e.g. `skew`, `kurtosis`), the default behavior of `mode` typically preserves the axis it acts along. In SciPy 1.11.0, this behavior will change: the default value of `keepdims` will become False, the `axis` over which the statistic is taken will be eliminated, and the value None will no longer be accepted. Set `keepdims` to True or False to avoid this warning.\n",
      "  mode, _ = stats.mode(_y[neigh_ind, k], axis=1)\n",
      "C:\\Users\\Sarth Naik\\anaconda3\\lib\\site-packages\\sklearn\\neighbors\\_classification.py:228: FutureWarning: Unlike other reduction functions (e.g. `skew`, `kurtosis`), the default behavior of `mode` typically preserves the axis it acts along. In SciPy 1.11.0, this behavior will change: the default value of `keepdims` will become False, the `axis` over which the statistic is taken will be eliminated, and the value None will no longer be accepted. Set `keepdims` to True or False to avoid this warning.\n",
      "  mode, _ = stats.mode(_y[neigh_ind, k], axis=1)\n"
     ]
    }
   ],
   "source": [
    "from sklearn.model_selection import cross_val_score\n",
    "\n",
    "# Define the classifiers\n",
    "classifiers = [\n",
    "    (\"SVM\", SVC(kernel='linear')),\n",
    "    (\"Random Forest\", RandomForestClassifier(n_estimators=100, random_state=42)),\n",
    "    (\"XGBoost\", xgb.XGBClassifier()),\n",
    "    (\"Logistic Regression\", LogisticRegression(max_iter=1000)),\n",
    "    (\"Naive Bayes\", MultinomialNB()),\n",
    "    (\"K-Nearest Neighbors\", KNeighborsClassifier(n_neighbors=5))\n",
    "]\n",
    "\n",
    "# Perform 5-fold cross-validation for each classifier\n",
    "for name, classifier in classifiers:\n",
    "    cv_scores = cross_val_score(classifier, X_train_tfidf, y_train, cv=5)\n",
    "    print(f\"{name} Cross-Validation Scores: {cv_scores}\")\n",
    "    print(f\"{name} Mean Accuracy: {cv_scores.mean():.2f}\\n\")\n"
   ]
  },
  {
   "cell_type": "code",
   "execution_count": null,
   "id": "ea4b5962",
   "metadata": {},
   "outputs": [],
   "source": []
  },
  {
   "cell_type": "code",
   "execution_count": 26,
   "id": "6e315695",
   "metadata": {},
   "outputs": [],
   "source": [
    "from pickle import dump"
   ]
  },
  {
   "cell_type": "code",
   "execution_count": 27,
   "id": "7f0e2ef3",
   "metadata": {},
   "outputs": [],
   "source": [
    "#dump(svm_classifier, open('SVMP.pkl','wb'))"
   ]
  },
  {
   "cell_type": "code",
   "execution_count": 31,
   "id": "9a1b0f4c",
   "metadata": {},
   "outputs": [
    {
     "ename": "NameError",
     "evalue": "name 'Category' is not defined",
     "output_type": "error",
     "traceback": [
      "\u001b[1;31m---------------------------------------------------------------------------\u001b[0m",
      "\u001b[1;31mNameError\u001b[0m                                 Traceback (most recent call last)",
      "Input \u001b[1;32mIn [31]\u001b[0m, in \u001b[0;36m<cell line: 1>\u001b[1;34m()\u001b[0m\n\u001b[1;32m----> 1\u001b[0m \u001b[38;5;28mprint\u001b[39m(\u001b[43mCategory\u001b[49m)\n",
      "\u001b[1;31mNameError\u001b[0m: name 'Category' is not defined"
     ]
    }
   ],
   "source": [
    "print(Category)"
   ]
  },
  {
   "cell_type": "code",
   "execution_count": null,
   "id": "1d4a816f",
   "metadata": {},
   "outputs": [],
   "source": []
  },
  {
   "cell_type": "code",
   "execution_count": null,
   "id": "6066a56f",
   "metadata": {},
   "outputs": [],
   "source": []
  },
  {
   "cell_type": "code",
   "execution_count": 29,
   "id": "de081c74",
   "metadata": {},
   "outputs": [],
   "source": [
    "dump(tfidf_vectorizer, open('tfidf_vectorizer.pkl','wb'))"
   ]
  },
  {
   "cell_type": "code",
   "execution_count": null,
   "id": "82c6e98f",
   "metadata": {},
   "outputs": [],
   "source": []
  }
 ],
 "metadata": {
  "kernelspec": {
   "display_name": "Python 3 (ipykernel)",
   "language": "python",
   "name": "python3"
  },
  "language_info": {
   "codemirror_mode": {
    "name": "ipython",
    "version": 3
   },
   "file_extension": ".py",
   "mimetype": "text/x-python",
   "name": "python",
   "nbconvert_exporter": "python",
   "pygments_lexer": "ipython3",
   "version": "3.9.12"
  }
 },
 "nbformat": 4,
 "nbformat_minor": 5
}
